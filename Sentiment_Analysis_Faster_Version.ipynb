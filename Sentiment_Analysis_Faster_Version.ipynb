{
  "cells": [
    {
      "cell_type": "code",
      "source": [
        "from google.colab import files\n",
        "\n",
        "uploaded = files.upload()"
      ],
      "metadata": {
        "colab": {
          "resources": {
            "http://localhost:8080/nbextensions/google.colab/files.js": {
              "data": "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",
              "ok": true,
              "headers": [
                [
                  "content-type",
                  "application/javascript"
                ]
              ],
              "status": 200,
              "status_text": ""
            }
          },
          "base_uri": "https://localhost:8080/",
          "height": 73
        },
        "id": "X8RlZ0s3r5LD",
        "outputId": "6af3abab-2d3f-4bea-d5e5-05147a79b156"
      },
      "id": "X8RlZ0s3r5LD",
      "execution_count": null,
      "outputs": [
        {
          "output_type": "display_data",
          "data": {
            "text/plain": [
              "<IPython.core.display.HTML object>"
            ],
            "text/html": [
              "\n",
              "     <input type=\"file\" id=\"files-8b29e1cd-d8f9-4fe2-9b1a-336fb84eddad\" name=\"files[]\" multiple disabled\n",
              "        style=\"border:none\" />\n",
              "     <output id=\"result-8b29e1cd-d8f9-4fe2-9b1a-336fb84eddad\">\n",
              "      Upload widget is only available when the cell has been executed in the\n",
              "      current browser session. Please rerun this cell to enable.\n",
              "      </output>\n",
              "      <script src=\"/nbextensions/google.colab/files.js\"></script> "
            ]
          },
          "metadata": {}
        },
        {
          "output_type": "stream",
          "name": "stdout",
          "text": [
            "Saving Main_Dataset.csv to Main_Dataset (1).csv\n"
          ]
        }
      ]
    },
    {
      "cell_type": "code",
      "source": [
        "from google.colab import drive\n",
        "drive.mount('/content/drive')"
      ],
      "metadata": {
        "colab": {
          "base_uri": "https://localhost:8080/"
        },
        "id": "yzFrm_EJ3api",
        "outputId": "9a2d6cf4-8864-42bd-950e-3cbbe3607b6e"
      },
      "id": "yzFrm_EJ3api",
      "execution_count": null,
      "outputs": [
        {
          "output_type": "stream",
          "name": "stdout",
          "text": [
            "Drive already mounted at /content/drive; to attempt to forcibly remount, call drive.mount(\"/content/drive\", force_remount=True).\n"
          ]
        }
      ]
    },
    {
      "cell_type": "code",
      "source": [],
      "metadata": {
        "id": "8n6naInRMjcq"
      },
      "id": "8n6naInRMjcq",
      "execution_count": null,
      "outputs": []
    },
    {
      "cell_type": "code",
      "source": [
        "import tensorflow as tf\n",
        "import numpy as np\n",
        "import matplotlib.pyplot as plt\n",
        "import numpy\n",
        "from sklearn.metrics import accuracy_score\n",
        "\n",
        "\n",
        "# gpus = tf.config.experimental.list_physical_devices(device_type='GPU')\n",
        "# tf.config.experimental.set_memory_growth(device=gpus[0], enable=True)\n",
        "\n",
        "# gpu_devices = tf.config.experimental.list_physical_devices(\"GPU\")\n",
        "# for device in gpu_devices:\n",
        "#     tf.config.experimental.set_memory_growth(device, True)\n"
      ],
      "metadata": {
        "id": "5NvnIrVasyH9"
      },
      "id": "5NvnIrVasyH9",
      "execution_count": null,
      "outputs": []
    },
    {
      "cell_type": "code",
      "source": [],
      "metadata": {
        "id": "7bsROUAYMd9h"
      },
      "id": "7bsROUAYMd9h",
      "execution_count": null,
      "outputs": []
    },
    {
      "cell_type": "code",
      "execution_count": null,
      "id": "aefee703",
      "metadata": {
        "id": "aefee703",
        "colab": {
          "base_uri": "https://localhost:8080/"
        },
        "outputId": "b83c6b56-8221-4802-df81-be71fb0c4c35"
      },
      "outputs": [
        {
          "output_type": "stream",
          "name": "stdout",
          "text": [
            "   Unnamed: 0                                               Text  Rating\n",
            "0           0  this chinese bakerybubble tea heaven the baker...       1\n",
            "1           1  beautiful cakes deserts but favorite bubble te...       1\n",
            "2           2  had meet corporate client area recommended bub...       0\n",
            "3           3  decent bakery especially asian bakery town the...       1\n",
            "4           4  it clean neat place there many kind pastry kin...       1\n"
          ]
        }
      ],
      "source": [
        "import pandas as pd\n",
        "import io\n",
        "\n",
        "mtea_df = pd.read_csv(io.BytesIO(uploaded['Main_Dataset.csv']))\n",
        "print(mtea_df.head())"
      ]
    },
    {
      "cell_type": "code",
      "execution_count": null,
      "id": "ae91909d",
      "metadata": {
        "colab": {
          "base_uri": "https://localhost:8080/"
        },
        "id": "ae91909d",
        "outputId": "57e8f4be-591b-47c1-b4c5-d5c269b033d6"
      },
      "outputs": [
        {
          "output_type": "execute_result",
          "data": {
            "text/plain": [
              "1    19440\n",
              "0    18022\n",
              "Name: Rating, dtype: int64"
            ]
          },
          "metadata": {},
          "execution_count": 5
        }
      ],
      "source": [
        "mtea_df['Rating'].value_counts()\n",
        "#86% 1\n",
        "#13% 0"
      ]
    },
    {
      "cell_type": "code",
      "source": [
        "# mtea_df = mtea_df.reindex(np.random.permutation(mtea_df.index))"
      ],
      "metadata": {
        "id": "y1eIZpbPJsBj"
      },
      "id": "y1eIZpbPJsBj",
      "execution_count": null,
      "outputs": []
    },
    {
      "cell_type": "code",
      "source": [
        "mtea_df.head(5)"
      ],
      "metadata": {
        "colab": {
          "base_uri": "https://localhost:8080/",
          "height": 206
        },
        "id": "2TpEHq4jJw24",
        "outputId": "6684f9e1-769e-4178-88a1-da53634d1ed1"
      },
      "id": "2TpEHq4jJw24",
      "execution_count": null,
      "outputs": [
        {
          "output_type": "execute_result",
          "data": {
            "text/plain": [
              "   Unnamed: 0                                               Text  Rating\n",
              "0           0  this chinese bakerybubble tea heaven the baker...       1\n",
              "1           1  beautiful cakes deserts but favorite bubble te...       1\n",
              "2           2  had meet corporate client area recommended bub...       0\n",
              "3           3  decent bakery especially asian bakery town the...       1\n",
              "4           4  it clean neat place there many kind pastry kin...       1"
            ],
            "text/html": [
              "\n",
              "  <div id=\"df-a7a680ed-e857-44db-b5ef-1d7004ea63b9\">\n",
              "    <div class=\"colab-df-container\">\n",
              "      <div>\n",
              "<style scoped>\n",
              "    .dataframe tbody tr th:only-of-type {\n",
              "        vertical-align: middle;\n",
              "    }\n",
              "\n",
              "    .dataframe tbody tr th {\n",
              "        vertical-align: top;\n",
              "    }\n",
              "\n",
              "    .dataframe thead th {\n",
              "        text-align: right;\n",
              "    }\n",
              "</style>\n",
              "<table border=\"1\" class=\"dataframe\">\n",
              "  <thead>\n",
              "    <tr style=\"text-align: right;\">\n",
              "      <th></th>\n",
              "      <th>Unnamed: 0</th>\n",
              "      <th>Text</th>\n",
              "      <th>Rating</th>\n",
              "    </tr>\n",
              "  </thead>\n",
              "  <tbody>\n",
              "    <tr>\n",
              "      <th>0</th>\n",
              "      <td>0</td>\n",
              "      <td>this chinese bakerybubble tea heaven the baker...</td>\n",
              "      <td>1</td>\n",
              "    </tr>\n",
              "    <tr>\n",
              "      <th>1</th>\n",
              "      <td>1</td>\n",
              "      <td>beautiful cakes deserts but favorite bubble te...</td>\n",
              "      <td>1</td>\n",
              "    </tr>\n",
              "    <tr>\n",
              "      <th>2</th>\n",
              "      <td>2</td>\n",
              "      <td>had meet corporate client area recommended bub...</td>\n",
              "      <td>0</td>\n",
              "    </tr>\n",
              "    <tr>\n",
              "      <th>3</th>\n",
              "      <td>3</td>\n",
              "      <td>decent bakery especially asian bakery town the...</td>\n",
              "      <td>1</td>\n",
              "    </tr>\n",
              "    <tr>\n",
              "      <th>4</th>\n",
              "      <td>4</td>\n",
              "      <td>it clean neat place there many kind pastry kin...</td>\n",
              "      <td>1</td>\n",
              "    </tr>\n",
              "  </tbody>\n",
              "</table>\n",
              "</div>\n",
              "      <button class=\"colab-df-convert\" onclick=\"convertToInteractive('df-a7a680ed-e857-44db-b5ef-1d7004ea63b9')\"\n",
              "              title=\"Convert this dataframe to an interactive table.\"\n",
              "              style=\"display:none;\">\n",
              "        \n",
              "  <svg xmlns=\"http://www.w3.org/2000/svg\" height=\"24px\"viewBox=\"0 0 24 24\"\n",
              "       width=\"24px\">\n",
              "    <path d=\"M0 0h24v24H0V0z\" fill=\"none\"/>\n",
              "    <path d=\"M18.56 5.44l.94 2.06.94-2.06 2.06-.94-2.06-.94-.94-2.06-.94 2.06-2.06.94zm-11 1L8.5 8.5l.94-2.06 2.06-.94-2.06-.94L8.5 2.5l-.94 2.06-2.06.94zm10 10l.94 2.06.94-2.06 2.06-.94-2.06-.94-.94-2.06-.94 2.06-2.06.94z\"/><path d=\"M17.41 7.96l-1.37-1.37c-.4-.4-.92-.59-1.43-.59-.52 0-1.04.2-1.43.59L10.3 9.45l-7.72 7.72c-.78.78-.78 2.05 0 2.83L4 21.41c.39.39.9.59 1.41.59.51 0 1.02-.2 1.41-.59l7.78-7.78 2.81-2.81c.8-.78.8-2.07 0-2.86zM5.41 20L4 18.59l7.72-7.72 1.47 1.35L5.41 20z\"/>\n",
              "  </svg>\n",
              "      </button>\n",
              "      \n",
              "  <style>\n",
              "    .colab-df-container {\n",
              "      display:flex;\n",
              "      flex-wrap:wrap;\n",
              "      gap: 12px;\n",
              "    }\n",
              "\n",
              "    .colab-df-convert {\n",
              "      background-color: #E8F0FE;\n",
              "      border: none;\n",
              "      border-radius: 50%;\n",
              "      cursor: pointer;\n",
              "      display: none;\n",
              "      fill: #1967D2;\n",
              "      height: 32px;\n",
              "      padding: 0 0 0 0;\n",
              "      width: 32px;\n",
              "    }\n",
              "\n",
              "    .colab-df-convert:hover {\n",
              "      background-color: #E2EBFA;\n",
              "      box-shadow: 0px 1px 2px rgba(60, 64, 67, 0.3), 0px 1px 3px 1px rgba(60, 64, 67, 0.15);\n",
              "      fill: #174EA6;\n",
              "    }\n",
              "\n",
              "    [theme=dark] .colab-df-convert {\n",
              "      background-color: #3B4455;\n",
              "      fill: #D2E3FC;\n",
              "    }\n",
              "\n",
              "    [theme=dark] .colab-df-convert:hover {\n",
              "      background-color: #434B5C;\n",
              "      box-shadow: 0px 1px 3px 1px rgba(0, 0, 0, 0.15);\n",
              "      filter: drop-shadow(0px 1px 2px rgba(0, 0, 0, 0.3));\n",
              "      fill: #FFFFFF;\n",
              "    }\n",
              "  </style>\n",
              "\n",
              "      <script>\n",
              "        const buttonEl =\n",
              "          document.querySelector('#df-a7a680ed-e857-44db-b5ef-1d7004ea63b9 button.colab-df-convert');\n",
              "        buttonEl.style.display =\n",
              "          google.colab.kernel.accessAllowed ? 'block' : 'none';\n",
              "\n",
              "        async function convertToInteractive(key) {\n",
              "          const element = document.querySelector('#df-a7a680ed-e857-44db-b5ef-1d7004ea63b9');\n",
              "          const dataTable =\n",
              "            await google.colab.kernel.invokeFunction('convertToInteractive',\n",
              "                                                     [key], {});\n",
              "          if (!dataTable) return;\n",
              "\n",
              "          const docLinkHtml = 'Like what you see? Visit the ' +\n",
              "            '<a target=\"_blank\" href=https://colab.research.google.com/notebooks/data_table.ipynb>data table notebook</a>'\n",
              "            + ' to learn more about interactive tables.';\n",
              "          element.innerHTML = '';\n",
              "          dataTable['output_type'] = 'display_data';\n",
              "          await google.colab.output.renderOutput(dataTable, element);\n",
              "          const docLink = document.createElement('div');\n",
              "          docLink.innerHTML = docLinkHtml;\n",
              "          element.appendChild(docLink);\n",
              "        }\n",
              "      </script>\n",
              "    </div>\n",
              "  </div>\n",
              "  "
            ]
          },
          "metadata": {},
          "execution_count": 6
        }
      ]
    },
    {
      "cell_type": "code",
      "source": [
        "x=mtea_df['Text'].values\n",
        "y=mtea_df['Rating'].values"
      ],
      "metadata": {
        "id": "1Vbp_h5IB7zQ"
      },
      "id": "1Vbp_h5IB7zQ",
      "execution_count": null,
      "outputs": []
    },
    {
      "cell_type": "code",
      "execution_count": null,
      "id": "f5127604",
      "metadata": {
        "id": "f5127604"
      },
      "outputs": [],
      "source": [
        "from sklearn.model_selection import train_test_split\n",
        "\n",
        "\n",
        "x_train, x_test, y_train, y_test = train_test_split(x, y, test_size=0.30)"
      ]
    },
    {
      "cell_type": "code",
      "source": [
        "# from sklearn.model_selection import StratifiedKFold\n",
        "# kf = StratifiedKFold(n_splits=5)"
      ],
      "metadata": {
        "id": "MZYoadelCAev"
      },
      "id": "MZYoadelCAev",
      "execution_count": null,
      "outputs": []
    },
    {
      "cell_type": "code",
      "source": [
        "# for train_index, test_index in kf.split(x,y):\n",
        "#   x_train, x_test, y_train, y_test = x[train_index],x[test_index],y[train_index],y[test_index]"
      ],
      "metadata": {
        "id": "lEc0p_MdCI-W"
      },
      "id": "lEc0p_MdCI-W",
      "execution_count": null,
      "outputs": []
    },
    {
      "cell_type": "code",
      "execution_count": null,
      "id": "5f6e6473",
      "metadata": {
        "colab": {
          "base_uri": "https://localhost:8080/"
        },
        "id": "5f6e6473",
        "outputId": "ebeabdf7-9a44-462c-d86b-94d5927906da"
      },
      "outputs": [
        {
          "output_type": "stream",
          "name": "stdout",
          "text": [
            "sentiment text:  deliciously amazing best bubble tea valley the decorations drinks make even better my son mesmerized\n",
            "sentiment:  1\n"
          ]
        }
      ],
      "source": [
        "print('sentiment text: ', x_train[2])\n",
        "print('sentiment: ',y_train[2])"
      ]
    },
    {
      "cell_type": "code",
      "execution_count": null,
      "id": "5f58e050",
      "metadata": {
        "id": "5f58e050"
      },
      "outputs": [],
      "source": [
        "#tokenizing\n",
        "from tensorflow.keras.preprocessing.text import Tokenizer\n",
        "from tensorflow.keras.preprocessing.sequence import pad_sequences\n",
        "\n",
        "max_vocab=2000000\n",
        "tokenizer= Tokenizer(num_words=max_vocab)\n",
        "tokenizer.fit_on_texts(x_train)"
      ]
    },
    {
      "cell_type": "code",
      "execution_count": null,
      "id": "e263515b",
      "metadata": {
        "colab": {
          "base_uri": "https://localhost:8080/"
        },
        "id": "e263515b",
        "outputId": "b51b48af-0e4d-4663-ffbc-dc30f2488e9d"
      },
      "outputs": [
        {
          "output_type": "stream",
          "name": "stdout",
          "text": [
            "The size of dataset vocab is:  25837\n"
          ]
        }
      ],
      "source": [
        "word_indx=tokenizer.word_index\n",
        "V=len(word_indx)\n",
        "print(\"The size of dataset vocab is: \", V)"
      ]
    },
    {
      "cell_type": "code",
      "execution_count": null,
      "id": "5bcdb4e3",
      "metadata": {
        "colab": {
          "base_uri": "https://localhost:8080/"
        },
        "id": "5bcdb4e3",
        "outputId": "f76143cb-89cc-43ce-f5f2-8443f1cef027"
      },
      "outputs": [
        {
          "output_type": "stream",
          "name": "stdout",
          "text": [
            "Training sequence:  [53, 6, 88, 130, 46, 4, 443, 1297, 78, 262, 48, 23, 187, 393, 183, 42, 20]\n",
            "Testing sequence:  [198, 97, 68, 1832, 12329, 5, 1, 782, 27, 483, 5, 2885, 123, 662, 31, 10, 61, 2944, 509, 10, 1, 238, 23, 5, 4, 558, 80, 13, 6619, 912, 7005, 462, 652, 200, 257, 373, 1, 1063, 382, 1, 174, 22, 333, 210, 5, 25, 23, 114, 206, 6, 149, 6, 918, 9]\n"
          ]
        }
      ],
      "source": [
        "train_seq = tokenizer.texts_to_sequences(x_train)\n",
        "test_seq = tokenizer.texts_to_sequences(x_test)\n",
        "print('Training sequence: ', train_seq[0])\n",
        "print('Testing sequence: ', test_seq[0])"
      ]
    },
    {
      "cell_type": "code",
      "execution_count": null,
      "id": "27e01b6f",
      "metadata": {
        "colab": {
          "base_uri": "https://localhost:8080/"
        },
        "id": "27e01b6f",
        "outputId": "0f2b0697-ff50-4d3b-dbb7-121e25304c3d"
      },
      "outputs": [
        {
          "output_type": "stream",
          "name": "stdout",
          "text": [
            "The length of training sequences is:  547\n"
          ]
        }
      ],
      "source": [
        "#padding\n",
        "pad_train = pad_sequences(train_seq)\n",
        "T=pad_train.shape[1]\n",
        "print('The length of training sequences is: ', T)"
      ]
    },
    {
      "cell_type": "code",
      "execution_count": null,
      "id": "1b24b52c",
      "metadata": {
        "colab": {
          "base_uri": "https://localhost:8080/"
        },
        "id": "1b24b52c",
        "outputId": "8749017a-9fbe-4593-88d9-6f121a562232"
      },
      "outputs": [
        {
          "output_type": "stream",
          "name": "stdout",
          "text": [
            "The length of testing sequence is:  547\n"
          ]
        }
      ],
      "source": [
        "pad_test = pad_sequences(test_seq, maxlen=T)\n",
        "print('The length of testing sequence is: ', pad_test.shape[1])"
      ]
    },
    {
      "cell_type": "code",
      "source": [
        "# #testing\n",
        "# import keras\n",
        "# from keras.models import load_model\n",
        "\n",
        "# new_model = keras.models.load_model('/content/may_20/')"
      ],
      "metadata": {
        "id": "-9T4f7Ln3lDY"
      },
      "id": "-9T4f7Ln3lDY",
      "execution_count": null,
      "outputs": []
    },
    {
      "cell_type": "code",
      "source": [
        "# new_model.summary()"
      ],
      "metadata": {
        "colab": {
          "base_uri": "https://localhost:8080/"
        },
        "id": "dGz13-7yLdUD",
        "outputId": "20b045eb-3737-4988-e58d-7efe1f836f0f"
      },
      "id": "dGz13-7yLdUD",
      "execution_count": null,
      "outputs": [
        {
          "output_type": "stream",
          "name": "stdout",
          "text": [
            "Model: \"model\"\n",
            "_________________________________________________________________\n",
            " Layer (type)                Output Shape              Param #   \n",
            "=================================================================\n",
            " input_1 (InputLayer)        [(None, 547)]             0         \n",
            "                                                                 \n",
            " embedding (Embedding)       (None, 547, 20)           558300    \n",
            "                                                                 \n",
            " lstm (LSTM)                 (None, 547, 15)           2160      \n",
            "                                                                 \n",
            " dropout (Dropout)           (None, 547, 15)           0         \n",
            "                                                                 \n",
            " global_max_pooling1d (Globa  (None, 15)               0         \n",
            " lMaxPooling1D)                                                  \n",
            "                                                                 \n",
            " dense (Dense)               (None, 32)                512       \n",
            "                                                                 \n",
            " dropout_1 (Dropout)         (None, 32)                0         \n",
            "                                                                 \n",
            " dense_1 (Dense)             (None, 1)                 33        \n",
            "                                                                 \n",
            "=================================================================\n",
            "Total params: 561,005\n",
            "Trainable params: 561,005\n",
            "Non-trainable params: 0\n",
            "_________________________________________________________________\n"
          ]
        }
      ]
    },
    {
      "cell_type": "code",
      "source": [
        "# loss,acc=new_model.evaluate(pad_train,y_train,verbose=2)"
      ],
      "metadata": {
        "id": "DjZF1GqU3yK-",
        "colab": {
          "base_uri": "https://localhost:8080/"
        },
        "outputId": "d3899cf0-2f8e-49a1-96ab-6eb216c5284d"
      },
      "id": "DjZF1GqU3yK-",
      "execution_count": null,
      "outputs": [
        {
          "output_type": "stream",
          "name": "stdout",
          "text": [
            "937/937 - 36s - loss: 0.1104 - accuracy: 0.9812 - 36s/epoch - 38ms/step\n"
          ]
        }
      ]
    },
    {
      "cell_type": "code",
      "source": [
        "# #sentiment detecting\n",
        "\n",
        "# # def predict_sentiment(text):\n",
        "# #     #preprocessing\n",
        "# #     text_seq = tokenizer.texts_to_sequences(text)\n",
        "# #     text_pad = pad_sequences(text_seq, maxlen=T)\n",
        "\n",
        "# #     #predicting the class\n",
        "# #     predicted_sentiment = model.predict(text_pad).round()\n",
        "# #     print(predicted_sentiment)\n",
        "\n",
        "# #     if predicted_sentiment == 1.0:\n",
        "# #         return(print('Good Sentiment'))\n",
        "# #     else:\n",
        "# #         return(print('Bad Sentiment'))\n",
        "\n",
        "# #show how close prediction is to 0 0.5 and 1\n",
        "# def predict_sentiment(text):\n",
        "#     #preprocessing\n",
        "\n",
        "#     text_seq = tokenizer.texts_to_sequences(text)\n",
        "#     text_pad = pad_sequences(text_seq, maxlen=T)\n",
        "\n",
        "#     #predicting the class\n",
        "#     predicted_sentiment = new_model.predict(text_pad)\n",
        "#     #rounded = [np.round(text,2) for x in predicted_sentiment]\n",
        "#     rounded_predicted_sentiment = np.round(predicted_sentiment,2)\n",
        "\n",
        "\n",
        "#     if rounded_predicted_sentiment.round() == 1.0:\n",
        "#         print(predicted_sentiment)\n",
        "#         return(print('Good Sentiment'))\n",
        "\n",
        "#     else:\n",
        "#         print(predicted_sentiment)\n",
        "#         return(print('Bad Sentiment'))\n",
        "\n",
        "\n",
        "\n",
        "\n",
        "# #text = [\"Boba Tea has a great selection of teas and boba. The fruit teas aren't a sweet compared to other boba tea places I've been to which I appreciate. The staff is approachable and the space is clean.We'll most likely come back!\"]\n",
        "# #text=[\"This doesn't look freshly made. Really disappointed! All the tapioca was stuck together, impossible to drink with a straw. Drink didn't taste fresh.\"]\n",
        "# text=[\"If this was my first bubble milk tea, I would not buy or crave for more. If you want to pay £8 for two water milk tea, please try it here. Real low & cheap quality. Never again!!!!!\"]\n",
        "# #text=[\"No line at 3:30 on a Friday afternoon. We got the Thai tea and honey roasted milk teas. Both were delicious. The staff was very nice. There is a little parking lot, so parking was easy. I look forward to returning and trying their other teas and hot food items!\"]\n",
        "# #text=[\"This place is pretty terrible, I don't know if you can call it a bubble tea store when it serves things that taste like water\"]\n",
        "# predict_sentiment(text)\n"
      ],
      "metadata": {
        "colab": {
          "base_uri": "https://localhost:8080/"
        },
        "id": "wwxcbFqcLk1k",
        "outputId": "79adf08d-4548-4874-80a1-864e2a02a3c4"
      },
      "id": "wwxcbFqcLk1k",
      "execution_count": null,
      "outputs": [
        {
          "output_type": "stream",
          "name": "stdout",
          "text": [
            "[[0.26457134]]\n",
            "Bad Sentiment\n"
          ]
        }
      ]
    },
    {
      "cell_type": "code",
      "source": [
        "#model\n",
        "\n",
        "from tensorflow.keras.layers import Input, Dense, Embedding, LSTM, GlobalMaxPooling1D, Dropout\n",
        "from tensorflow.keras.models import Model\n",
        "from tensorflow.keras import regularizers\n",
        "\n",
        "D=20 #dimension layer\n",
        "M=15 #lstm layer\n",
        "\n",
        "i = Input (shape=(T,))\n",
        "x = Embedding(V+1, D)(i)\n",
        "x = LSTM(M, return_sequences=True,\n",
        "         kernel_regularizer=regularizers.L2(1e-8),\n",
        "         bias_regularizer=regularizers.L2(1e-8),\n",
        "         activity_regularizer=regularizers.L2(1e-8))(x)\n",
        "x = Dropout(0.7)(x)\n",
        "x = GlobalMaxPooling1D()(x)\n",
        "x = Dense(8, activation='relu',\n",
        "         kernel_regularizer=regularizers.L2(1e-8),\n",
        "         bias_regularizer=regularizers.L2(1e-8),\n",
        "         activity_regularizer=regularizers.L2(1e-8))(x)\n",
        "x = Dropout(0.5)(x)\n",
        "x = Dense(1, activation='sigmoid')(x)\n",
        "\n",
        "model = Model(i,x)"
      ],
      "metadata": {
        "id": "6qrR40xkGQsb"
      },
      "id": "6qrR40xkGQsb",
      "execution_count": null,
      "outputs": []
    },
    {
      "cell_type": "code",
      "source": [
        "model.summary()"
      ],
      "metadata": {
        "colab": {
          "base_uri": "https://localhost:8080/"
        },
        "id": "gzCFv8ZQ-Az0",
        "outputId": "f84c204a-6ab9-4cb1-9c7d-7d7524b0d4ab"
      },
      "id": "gzCFv8ZQ-Az0",
      "execution_count": null,
      "outputs": [
        {
          "output_type": "stream",
          "name": "stdout",
          "text": [
            "Model: \"model\"\n",
            "_________________________________________________________________\n",
            " Layer (type)                Output Shape              Param #   \n",
            "=================================================================\n",
            " input_1 (InputLayer)        [(None, 547)]             0         \n",
            "                                                                 \n",
            " embedding (Embedding)       (None, 547, 20)           516760    \n",
            "                                                                 \n",
            " lstm (LSTM)                 (None, 547, 15)           2160      \n",
            "                                                                 \n",
            " dropout (Dropout)           (None, 547, 15)           0         \n",
            "                                                                 \n",
            " global_max_pooling1d (Globa  (None, 15)               0         \n",
            " lMaxPooling1D)                                                  \n",
            "                                                                 \n",
            " dense (Dense)               (None, 8)                 128       \n",
            "                                                                 \n",
            " dropout_1 (Dropout)         (None, 8)                 0         \n",
            "                                                                 \n",
            " dense_1 (Dense)             (None, 1)                 9         \n",
            "                                                                 \n",
            "=================================================================\n",
            "Total params: 519,057\n",
            "Trainable params: 519,057\n",
            "Non-trainable params: 0\n",
            "_________________________________________________________________\n"
          ]
        }
      ]
    },
    {
      "cell_type": "code",
      "source": [
        "#train\n",
        "from tensorflow.keras.callbacks import EarlyStopping, ModelCheckpoint\n",
        "\n",
        "filepath = '/content/ModelCheckpoints2/Checkpoint.ckpt'\n",
        "checkpoint =  ModelCheckpoint(filepath,monitor='val_loss',verbose=1,mode='min',save_weights_only=True)\n",
        "monitor = EarlyStopping(monitor='val_loss', min_delta=0.0001,patience=3,verbose=1,mode='auto',restore_best_weights=True)\n"
      ],
      "metadata": {
        "id": "SX0uMSVp6IdV"
      },
      "id": "SX0uMSVp6IdV",
      "execution_count": null,
      "outputs": []
    },
    {
      "cell_type": "code",
      "source": [
        "# from tensorflow.keras.callbacks import EarlyStopping, ModelCheckpoint\n",
        "\n",
        "# filepath = '/content/ModelCheckpoints/CheckpointModel_3.h5'\n",
        "\n",
        "# keras_callbacks   = [\n",
        "#       EarlyStopping(monitor='val_loss', patience=10, mode='min', min_delta=0.0001),\n",
        "#       ModelCheckpoint(filepath, monitor='val_loss', save_best_only=True, mode='min')\n",
        "# ]"
      ],
      "metadata": {
        "id": "pMvyZ2A12irB"
      },
      "id": "pMvyZ2A12irB",
      "execution_count": null,
      "outputs": []
    },
    {
      "cell_type": "code",
      "source": [
        "# from tensorflow.keras.callbacks import EarlyStopping\n",
        "# monitor = EarlyStopping(monitor='val_loss', min_delta=0.0005,patience=5,verbose=1,mode='auto',restore_best_weights=True)"
      ],
      "metadata": {
        "id": "Ka2QzRgVnlww"
      },
      "id": "Ka2QzRgVnlww",
      "execution_count": null,
      "outputs": []
    },
    {
      "cell_type": "code",
      "source": [],
      "metadata": {
        "id": "5rnUCEbtl-X8"
      },
      "id": "5rnUCEbtl-X8",
      "execution_count": null,
      "outputs": []
    },
    {
      "cell_type": "code",
      "execution_count": null,
      "id": "e8b37b27",
      "metadata": {
        "id": "e8b37b27"
      },
      "outputs": [],
      "source": [
        "\n",
        "# model.compile(optimizer='adam',\n",
        "#               loss='binary_crossentropy',\n",
        "#               metrics=[tf.keras.metrics.AUC()])\n",
        "\n",
        "learning=tf.keras.optimizers.Adam(learning_rate=0.0001)\n",
        "model.compile(optimizer=learning,\n",
        "              loss='binary_crossentropy',\n",
        "              metrics=['accuracy'])\n"
      ]
    },
    {
      "cell_type": "code",
      "source": [
        "pwd"
      ],
      "metadata": {
        "colab": {
          "base_uri": "https://localhost:8080/",
          "height": 35
        },
        "id": "m1rMQ6DQ8MMe",
        "outputId": "c4393c74-2bf1-4f46-8a20-438004f10219"
      },
      "id": "m1rMQ6DQ8MMe",
      "execution_count": null,
      "outputs": [
        {
          "output_type": "execute_result",
          "data": {
            "text/plain": [
              "'/content'"
            ],
            "application/vnd.google.colaboratory.intrinsic+json": {
              "type": "string"
            }
          },
          "metadata": {},
          "execution_count": 23
        }
      ]
    },
    {
      "cell_type": "code",
      "execution_count": null,
      "id": "1c5a7058",
      "metadata": {
        "scrolled": true,
        "id": "1c5a7058"
      },
      "outputs": [],
      "source": []
    },
    {
      "cell_type": "code",
      "source": [
        "# import keras\n",
        "\n",
        "# class CustomSaver(keras.callbacks.Callback):\n",
        "#     def on_epoch_end(self, epoch, logs={}):\n",
        "#         if epoch == 82:  # or save after some epoch, each k-th epoch etc.\n",
        "#             self.model.save(\"model_{}.hd5\".format(epoch))\n",
        "\n",
        "# saver = CustomSaver()"
      ],
      "metadata": {
        "id": "Bt1jwV9JKAiZ"
      },
      "id": "Bt1jwV9JKAiZ",
      "execution_count": null,
      "outputs": []
    },
    {
      "cell_type": "code",
      "source": [
        "r=model.fit(pad_train,y_train,validation_data=(pad_test,y_test), callbacks=[monitor,checkpoint],epochs=20)\n",
        "#r=model.fit(pad_train,y_train,validation_data=(pad_test,y_test),epochs=50)"
      ],
      "metadata": {
        "colab": {
          "base_uri": "https://localhost:8080/"
        },
        "id": "DLRC_irWI9I5",
        "outputId": "b94d09dc-8c70-4a63-fd0e-f802641ebcc5"
      },
      "id": "DLRC_irWI9I5",
      "execution_count": null,
      "outputs": [
        {
          "output_type": "stream",
          "name": "stdout",
          "text": [
            "Epoch 1/20\n",
            "820/820 [==============================] - ETA: 0s - loss: 0.5856 - accuracy: 0.7058\n",
            "Epoch 1: saving model to /content/ModelCheckpoints2/Checkpoint.ckpt\n",
            "820/820 [==============================] - 29s 32ms/step - loss: 0.5856 - accuracy: 0.7058 - val_loss: 0.5424 - val_accuracy: 0.8992\n",
            "Epoch 2/20\n",
            "817/820 [============================>.] - ETA: 0s - loss: 0.3773 - accuracy: 0.8802\n",
            "Epoch 2: saving model to /content/ModelCheckpoints2/Checkpoint.ckpt\n",
            "820/820 [==============================] - 19s 24ms/step - loss: 0.3772 - accuracy: 0.8802 - val_loss: 0.4428 - val_accuracy: 0.9239\n",
            "Epoch 3/20\n",
            "820/820 [==============================] - ETA: 0s - loss: 0.2954 - accuracy: 0.9073\n",
            "Epoch 3: saving model to /content/ModelCheckpoints2/Checkpoint.ckpt\n",
            "820/820 [==============================] - 17s 21ms/step - loss: 0.2954 - accuracy: 0.9073 - val_loss: 0.4015 - val_accuracy: 0.9330\n",
            "Epoch 4/20\n",
            "819/820 [============================>.] - ETA: 0s - loss: 0.2576 - accuracy: 0.9240\n",
            "Epoch 4: saving model to /content/ModelCheckpoints2/Checkpoint.ckpt\n",
            "820/820 [==============================] - 19s 23ms/step - loss: 0.2576 - accuracy: 0.9240 - val_loss: 0.3741 - val_accuracy: 0.9363\n",
            "Epoch 5/20\n",
            "818/820 [============================>.] - ETA: 0s - loss: 0.2368 - accuracy: 0.9331\n",
            "Epoch 5: saving model to /content/ModelCheckpoints2/Checkpoint.ckpt\n",
            "820/820 [==============================] - 17s 21ms/step - loss: 0.2368 - accuracy: 0.9331 - val_loss: 0.3516 - val_accuracy: 0.9382\n",
            "Epoch 6/20\n",
            "820/820 [==============================] - ETA: 0s - loss: 0.2153 - accuracy: 0.9405\n",
            "Epoch 6: saving model to /content/ModelCheckpoints2/Checkpoint.ckpt\n",
            "820/820 [==============================] - 17s 21ms/step - loss: 0.2153 - accuracy: 0.9405 - val_loss: 0.3436 - val_accuracy: 0.9378\n",
            "Epoch 7/20\n",
            "818/820 [============================>.] - ETA: 0s - loss: 0.1965 - accuracy: 0.9479\n",
            "Epoch 7: saving model to /content/ModelCheckpoints2/Checkpoint.ckpt\n",
            "820/820 [==============================] - 17s 21ms/step - loss: 0.1965 - accuracy: 0.9478 - val_loss: 0.3226 - val_accuracy: 0.9388\n",
            "Epoch 8/20\n",
            "820/820 [==============================] - ETA: 0s - loss: 0.1866 - accuracy: 0.9529\n",
            "Epoch 8: saving model to /content/ModelCheckpoints2/Checkpoint.ckpt\n",
            "820/820 [==============================] - 17s 21ms/step - loss: 0.1866 - accuracy: 0.9529 - val_loss: 0.3157 - val_accuracy: 0.9351\n",
            "Epoch 9/20\n",
            "818/820 [============================>.] - ETA: 0s - loss: 0.1752 - accuracy: 0.9587\n",
            "Epoch 9: saving model to /content/ModelCheckpoints2/Checkpoint.ckpt\n",
            "820/820 [==============================] - 17s 21ms/step - loss: 0.1751 - accuracy: 0.9587 - val_loss: 0.3031 - val_accuracy: 0.9351\n",
            "Epoch 10/20\n",
            "819/820 [============================>.] - ETA: 0s - loss: 0.1603 - accuracy: 0.9630\n",
            "Epoch 10: saving model to /content/ModelCheckpoints2/Checkpoint.ckpt\n",
            "820/820 [==============================] - 19s 23ms/step - loss: 0.1603 - accuracy: 0.9630 - val_loss: 0.2896 - val_accuracy: 0.9347\n",
            "Epoch 11/20\n",
            "820/820 [==============================] - ETA: 0s - loss: 0.1521 - accuracy: 0.9648\n",
            "Epoch 11: saving model to /content/ModelCheckpoints2/Checkpoint.ckpt\n",
            "820/820 [==============================] - 17s 21ms/step - loss: 0.1521 - accuracy: 0.9648 - val_loss: 0.2700 - val_accuracy: 0.9308\n",
            "Epoch 12/20\n",
            "819/820 [============================>.] - ETA: 0s - loss: 0.1455 - accuracy: 0.9665\n",
            "Epoch 12: saving model to /content/ModelCheckpoints2/Checkpoint.ckpt\n",
            "820/820 [==============================] - 17s 21ms/step - loss: 0.1454 - accuracy: 0.9665 - val_loss: 0.2728 - val_accuracy: 0.9294\n",
            "Epoch 13/20\n",
            "818/820 [============================>.] - ETA: 0s - loss: 0.1377 - accuracy: 0.9691\n",
            "Epoch 13: saving model to /content/ModelCheckpoints2/Checkpoint.ckpt\n",
            "820/820 [==============================] - 17s 21ms/step - loss: 0.1377 - accuracy: 0.9691 - val_loss: 0.2569 - val_accuracy: 0.9315\n",
            "Epoch 14/20\n",
            "818/820 [============================>.] - ETA: 0s - loss: 0.1300 - accuracy: 0.9723\n",
            "Epoch 14: saving model to /content/ModelCheckpoints2/Checkpoint.ckpt\n",
            "820/820 [==============================] - 18s 21ms/step - loss: 0.1301 - accuracy: 0.9722 - val_loss: 0.2492 - val_accuracy: 0.9323\n",
            "Epoch 15/20\n",
            "819/820 [============================>.] - ETA: 0s - loss: 0.1221 - accuracy: 0.9734\n",
            "Epoch 15: saving model to /content/ModelCheckpoints2/Checkpoint.ckpt\n",
            "820/820 [==============================] - 18s 21ms/step - loss: 0.1221 - accuracy: 0.9734 - val_loss: 0.2456 - val_accuracy: 0.9322\n",
            "Epoch 16/20\n",
            "819/820 [============================>.] - ETA: 0s - loss: 0.1146 - accuracy: 0.9752\n",
            "Epoch 16: saving model to /content/ModelCheckpoints2/Checkpoint.ckpt\n",
            "820/820 [==============================] - 17s 21ms/step - loss: 0.1147 - accuracy: 0.9752 - val_loss: 0.2417 - val_accuracy: 0.9267\n",
            "Epoch 17/20\n",
            "818/820 [============================>.] - ETA: 0s - loss: 0.1098 - accuracy: 0.9765\n",
            "Epoch 17: saving model to /content/ModelCheckpoints2/Checkpoint.ckpt\n",
            "820/820 [==============================] - 17s 21ms/step - loss: 0.1099 - accuracy: 0.9765 - val_loss: 0.2423 - val_accuracy: 0.9293\n",
            "Epoch 18/20\n",
            "820/820 [==============================] - ETA: 0s - loss: 0.1048 - accuracy: 0.9787\n",
            "Epoch 18: saving model to /content/ModelCheckpoints2/Checkpoint.ckpt\n",
            "820/820 [==============================] - 18s 21ms/step - loss: 0.1048 - accuracy: 0.9787 - val_loss: 0.2310 - val_accuracy: 0.9286\n",
            "Epoch 19/20\n",
            "818/820 [============================>.] - ETA: 0s - loss: 0.1018 - accuracy: 0.9786\n",
            "Epoch 19: saving model to /content/ModelCheckpoints2/Checkpoint.ckpt\n",
            "820/820 [==============================] - 18s 22ms/step - loss: 0.1018 - accuracy: 0.9785 - val_loss: 0.2352 - val_accuracy: 0.9261\n",
            "Epoch 20/20\n",
            "818/820 [============================>.] - ETA: 0s - loss: 0.0994 - accuracy: 0.9791\n",
            "Epoch 20: saving model to /content/ModelCheckpoints2/Checkpoint.ckpt\n",
            "820/820 [==============================] - 17s 21ms/step - loss: 0.0993 - accuracy: 0.9791 - val_loss: 0.2303 - val_accuracy: 0.9270\n"
          ]
        }
      ]
    },
    {
      "cell_type": "code",
      "source": [
        "plt.plot(r.history['loss'],label='loss')\n",
        "plt.plot(r.history['val_loss'],label='val_loss')\n",
        "plt.legend()"
      ],
      "metadata": {
        "colab": {
          "base_uri": "https://localhost:8080/",
          "height": 282
        },
        "id": "pg3FF085Mxz1",
        "outputId": "00cb1d4b-8d7b-4385-e29b-9cdac321332d"
      },
      "id": "pg3FF085Mxz1",
      "execution_count": null,
      "outputs": [
        {
          "output_type": "execute_result",
          "data": {
            "text/plain": [
              "<matplotlib.legend.Legend at 0x7f16e9f8c810>"
            ]
          },
          "metadata": {},
          "execution_count": 20
        },
        {
          "output_type": "display_data",
          "data": {
            "text/plain": [
              "<Figure size 432x288 with 1 Axes>"
            ],
            "image/png": "[encoded data removed]"
          },
          "metadata": {
            "needs_background": "light"
          }
        }
      ]
    },
    {
      "cell_type": "code",
      "source": [
        "#method 1\n",
        "\n",
        "model.save('20 epochs.h5')"
      ],
      "metadata": {
        "id": "s_OA_3rnXMuJ"
      },
      "id": "s_OA_3rnXMuJ",
      "execution_count": null,
      "outputs": []
    },
    {
      "cell_type": "code",
      "source": [
        "#save weights option 1\n",
        "model.save_weights('/content/saved model2/', save_format='h5')"
      ],
      "metadata": {
        "id": "_jNadNRdXNh1",
        "colab": {
          "base_uri": "https://localhost:8080/",
          "height": 451
        },
        "outputId": "ff1a389c-6755-4405-8ae2-892b2b897868"
      },
      "id": "_jNadNRdXNh1",
      "execution_count": null,
      "outputs": [
        {
          "output_type": "error",
          "ename": "OSError",
          "evalue": "ignored",
          "traceback": [
            "\u001b[0;31m---------------------------------------------------------------------------\u001b[0m",
            "\u001b[0;31mOSError\u001b[0m                                   Traceback (most recent call last)",
            "\u001b[0;32m<ipython-input-23-a09a437fba79>\u001b[0m in \u001b[0;36m<module>\u001b[0;34m()\u001b[0m\n\u001b[1;32m      1\u001b[0m \u001b[0;31m#save weights option 1\u001b[0m\u001b[0;34m\u001b[0m\u001b[0;34m\u001b[0m\u001b[0;34m\u001b[0m\u001b[0m\n\u001b[0;32m----> 2\u001b[0;31m \u001b[0mmodel\u001b[0m\u001b[0;34m.\u001b[0m\u001b[0msave_weights\u001b[0m\u001b[0;34m(\u001b[0m\u001b[0;34m'/content/saved model2/'\u001b[0m\u001b[0;34m,\u001b[0m \u001b[0msave_format\u001b[0m\u001b[0;34m=\u001b[0m\u001b[0;34m'h5'\u001b[0m\u001b[0;34m)\u001b[0m\u001b[0;34m\u001b[0m\u001b[0;34m\u001b[0m\u001b[0m\n\u001b[0m",
            "\u001b[0;32m/usr/local/lib/python3.7/dist-packages/keras/utils/traceback_utils.py\u001b[0m in \u001b[0;36merror_handler\u001b[0;34m(*args, **kwargs)\u001b[0m\n\u001b[1;32m     65\u001b[0m     \u001b[0;32mexcept\u001b[0m \u001b[0mException\u001b[0m \u001b[0;32mas\u001b[0m \u001b[0me\u001b[0m\u001b[0;34m:\u001b[0m  \u001b[0;31m# pylint: disable=broad-except\u001b[0m\u001b[0;34m\u001b[0m\u001b[0;34m\u001b[0m\u001b[0m\n\u001b[1;32m     66\u001b[0m       \u001b[0mfiltered_tb\u001b[0m \u001b[0;34m=\u001b[0m \u001b[0m_process_traceback_frames\u001b[0m\u001b[0;34m(\u001b[0m\u001b[0me\u001b[0m\u001b[0;34m.\u001b[0m\u001b[0m__traceback__\u001b[0m\u001b[0;34m)\u001b[0m\u001b[0;34m\u001b[0m\u001b[0;34m\u001b[0m\u001b[0m\n\u001b[0;32m---> 67\u001b[0;31m       \u001b[0;32mraise\u001b[0m \u001b[0me\u001b[0m\u001b[0;34m.\u001b[0m\u001b[0mwith_traceback\u001b[0m\u001b[0;34m(\u001b[0m\u001b[0mfiltered_tb\u001b[0m\u001b[0;34m)\u001b[0m \u001b[0;32mfrom\u001b[0m \u001b[0;32mNone\u001b[0m\u001b[0;34m\u001b[0m\u001b[0;34m\u001b[0m\u001b[0m\n\u001b[0m\u001b[1;32m     68\u001b[0m     \u001b[0;32mfinally\u001b[0m\u001b[0;34m:\u001b[0m\u001b[0;34m\u001b[0m\u001b[0;34m\u001b[0m\u001b[0m\n\u001b[1;32m     69\u001b[0m       \u001b[0;32mdel\u001b[0m \u001b[0mfiltered_tb\u001b[0m\u001b[0;34m\u001b[0m\u001b[0;34m\u001b[0m\u001b[0m\n",
            "\u001b[0;32m/usr/local/lib/python3.7/dist-packages/h5py/_hl/files.py\u001b[0m in \u001b[0;36m__init__\u001b[0;34m(self, name, mode, driver, libver, userblock_size, swmr, rdcc_nslots, rdcc_nbytes, rdcc_w0, track_order, fs_strategy, fs_persist, fs_threshold, **kwds)\u001b[0m\n\u001b[1;32m    425\u001b[0m                                fapl, fcpl=make_fcpl(track_order=track_order, fs_strategy=fs_strategy,\n\u001b[1;32m    426\u001b[0m                                fs_persist=fs_persist, fs_threshold=fs_threshold),\n\u001b[0;32m--> 427\u001b[0;31m                                swmr=swmr)\n\u001b[0m\u001b[1;32m    428\u001b[0m \u001b[0;34m\u001b[0m\u001b[0m\n\u001b[1;32m    429\u001b[0m             \u001b[0;32mif\u001b[0m \u001b[0misinstance\u001b[0m\u001b[0;34m(\u001b[0m\u001b[0mlibver\u001b[0m\u001b[0;34m,\u001b[0m \u001b[0mtuple\u001b[0m\u001b[0;34m)\u001b[0m\u001b[0;34m:\u001b[0m\u001b[0;34m\u001b[0m\u001b[0;34m\u001b[0m\u001b[0m\n",
            "\u001b[0;32m/usr/local/lib/python3.7/dist-packages/h5py/_hl/files.py\u001b[0m in \u001b[0;36mmake_fid\u001b[0;34m(name, mode, userblock_size, fapl, fcpl, swmr)\u001b[0m\n\u001b[1;32m    194\u001b[0m         \u001b[0mfid\u001b[0m \u001b[0;34m=\u001b[0m \u001b[0mh5f\u001b[0m\u001b[0;34m.\u001b[0m\u001b[0mcreate\u001b[0m\u001b[0;34m(\u001b[0m\u001b[0mname\u001b[0m\u001b[0;34m,\u001b[0m \u001b[0mh5f\u001b[0m\u001b[0;34m.\u001b[0m\u001b[0mACC_EXCL\u001b[0m\u001b[0;34m,\u001b[0m \u001b[0mfapl\u001b[0m\u001b[0;34m=\u001b[0m\u001b[0mfapl\u001b[0m\u001b[0;34m,\u001b[0m \u001b[0mfcpl\u001b[0m\u001b[0;34m=\u001b[0m\u001b[0mfcpl\u001b[0m\u001b[0;34m)\u001b[0m\u001b[0;34m\u001b[0m\u001b[0;34m\u001b[0m\u001b[0m\n\u001b[1;32m    195\u001b[0m     \u001b[0;32melif\u001b[0m \u001b[0mmode\u001b[0m \u001b[0;34m==\u001b[0m \u001b[0;34m'w'\u001b[0m\u001b[0;34m:\u001b[0m\u001b[0;34m\u001b[0m\u001b[0;34m\u001b[0m\u001b[0m\n\u001b[0;32m--> 196\u001b[0;31m         \u001b[0mfid\u001b[0m \u001b[0;34m=\u001b[0m \u001b[0mh5f\u001b[0m\u001b[0;34m.\u001b[0m\u001b[0mcreate\u001b[0m\u001b[0;34m(\u001b[0m\u001b[0mname\u001b[0m\u001b[0;34m,\u001b[0m \u001b[0mh5f\u001b[0m\u001b[0;34m.\u001b[0m\u001b[0mACC_TRUNC\u001b[0m\u001b[0;34m,\u001b[0m \u001b[0mfapl\u001b[0m\u001b[0;34m=\u001b[0m\u001b[0mfapl\u001b[0m\u001b[0;34m,\u001b[0m \u001b[0mfcpl\u001b[0m\u001b[0;34m=\u001b[0m\u001b[0mfcpl\u001b[0m\u001b[0;34m)\u001b[0m\u001b[0;34m\u001b[0m\u001b[0;34m\u001b[0m\u001b[0m\n\u001b[0m\u001b[1;32m    197\u001b[0m     \u001b[0;32melif\u001b[0m \u001b[0mmode\u001b[0m \u001b[0;34m==\u001b[0m \u001b[0;34m'a'\u001b[0m\u001b[0;34m:\u001b[0m\u001b[0;34m\u001b[0m\u001b[0;34m\u001b[0m\u001b[0m\n\u001b[1;32m    198\u001b[0m         \u001b[0;31m# Open in append mode (read/write).\u001b[0m\u001b[0;34m\u001b[0m\u001b[0;34m\u001b[0m\u001b[0;34m\u001b[0m\u001b[0m\n",
            "\u001b[0;32mh5py/_objects.pyx\u001b[0m in \u001b[0;36mh5py._objects.with_phil.wrapper\u001b[0;34m()\u001b[0m\n",
            "\u001b[0;32mh5py/_objects.pyx\u001b[0m in \u001b[0;36mh5py._objects.with_phil.wrapper\u001b[0;34m()\u001b[0m\n",
            "\u001b[0;32mh5py/h5f.pyx\u001b[0m in \u001b[0;36mh5py.h5f.create\u001b[0;34m()\u001b[0m\n",
            "\u001b[0;31mOSError\u001b[0m: Unable to create file (unable to open file: name = '/content/saved model2/', errno = 21, error message = 'Is a directory', flags = 13, o_flags = 242)"
          ]
        }
      ]
    },
    {
      "cell_type": "code",
      "source": [
        "#serialization option 2\n",
        "model.save('20epochs/')"
      ],
      "metadata": {
        "id": "pFKNVN_DX-6N",
        "colab": {
          "base_uri": "https://localhost:8080/"
        },
        "outputId": "7448d6f0-f440-47eb-d68b-20f880fd1efe"
      },
      "id": "pFKNVN_DX-6N",
      "execution_count": null,
      "outputs": [
        {
          "output_type": "stream",
          "name": "stderr",
          "text": [
            "WARNING:absl:Found untraced functions such as lstm_cell_layer_call_fn, lstm_cell_layer_call_and_return_conditional_losses while saving (showing 2 of 2). These functions will not be directly callable after loading.\n"
          ]
        },
        {
          "output_type": "stream",
          "name": "stdout",
          "text": [
            "INFO:tensorflow:Assets written to: 20epochs/assets\n"
          ]
        },
        {
          "output_type": "stream",
          "name": "stderr",
          "text": [
            "INFO:tensorflow:Assets written to: 20epochs/assets\n",
            "WARNING:absl:<keras.layers.recurrent.LSTMCell object at 0x7f1769cb0e90> has the same name 'LSTMCell' as a built-in Keras object. Consider renaming <class 'keras.layers.recurrent.LSTMCell'> to avoid naming conflicts when loading with `tf.keras.models.load_model`. If renaming is not possible, pass the object in the `custom_objects` parameter of the load function.\n"
          ]
        }
      ]
    },
    {
      "cell_type": "code",
      "source": [
        "!zip -r /content/20epochs.zip /content/20epochs"
      ],
      "metadata": {
        "colab": {
          "base_uri": "https://localhost:8080/"
        },
        "id": "KhfaTEx-jhZe",
        "outputId": "7f7a6133-ffcb-4402-89ab-109541cd4118"
      },
      "id": "KhfaTEx-jhZe",
      "execution_count": null,
      "outputs": [
        {
          "output_type": "stream",
          "name": "stdout",
          "text": [
            "  adding: content/20epochs/ (stored 0%)\n",
            "  adding: content/20epochs/saved_model.pb (deflated 90%)\n",
            "  adding: content/20epochs/assets/ (stored 0%)\n",
            "  adding: content/20epochs/variables/ (stored 0%)\n",
            "  adding: content/20epochs/variables/variables.data-00000-of-00001 (deflated 7%)\n",
            "  adding: content/20epochs/variables/variables.index (deflated 62%)\n",
            "  adding: content/20epochs/keras_metadata.pb (deflated 89%)\n"
          ]
        }
      ]
    },
    {
      "cell_type": "code",
      "source": [
        "!zip -r /content/checkpoint20epochs.zip /content/ModelCheckpoints2"
      ],
      "metadata": {
        "id": "BQyTer0y4fwl",
        "colab": {
          "base_uri": "https://localhost:8080/"
        },
        "outputId": "9edf0db9-045d-44ae-d637-e9703d9ec7d0"
      },
      "id": "BQyTer0y4fwl",
      "execution_count": null,
      "outputs": [
        {
          "output_type": "stream",
          "name": "stdout",
          "text": [
            "  adding: content/ModelCheckpoints2/ (stored 0%)\n",
            "  adding: content/ModelCheckpoints2/Checkpoint.ckpt.index (deflated 63%)\n",
            "  adding: content/ModelCheckpoints2/Checkpoint.ckpt.data-00000-of-00001 (deflated 7%)\n",
            "  adding: content/ModelCheckpoints2/checkpoint (deflated 48%)\n"
          ]
        }
      ]
    },
    {
      "cell_type": "code",
      "source": [
        "#option 3\n",
        "import pickle\n",
        "\n",
        "with open('model_pickle_','wb') as f:\n",
        "  pickle.dump(model,f)"
      ],
      "metadata": {
        "id": "zVhL_2GSOvYk",
        "colab": {
          "base_uri": "https://localhost:8080/"
        },
        "outputId": "901eb0f7-de9d-4ac9-f13b-03941c37597f"
      },
      "id": "zVhL_2GSOvYk",
      "execution_count": null,
      "outputs": [
        {
          "output_type": "stream",
          "name": "stderr",
          "text": [
            "WARNING:absl:Found untraced functions such as lstm_cell_1_layer_call_fn, lstm_cell_1_layer_call_and_return_conditional_losses while saving (showing 2 of 2). These functions will not be directly callable after loading.\n"
          ]
        },
        {
          "output_type": "stream",
          "name": "stdout",
          "text": [
            "INFO:tensorflow:Assets written to: ram://d95eb43b-5f11-445b-8dd6-fefdcd7e813e/assets\n"
          ]
        },
        {
          "output_type": "stream",
          "name": "stderr",
          "text": [
            "INFO:tensorflow:Assets written to: ram://d95eb43b-5f11-445b-8dd6-fefdcd7e813e/assets\n",
            "WARNING:absl:<keras.layers.recurrent.LSTMCell object at 0x7f44798596d0> has the same name 'LSTMCell' as a built-in Keras object. Consider renaming <class 'keras.layers.recurrent.LSTMCell'> to avoid naming conflicts when loading with `tf.keras.models.load_model`. If renaming is not possible, pass the object in the `custom_objects` parameter of the load function.\n"
          ]
        }
      ]
    },
    {
      "cell_type": "code",
      "source": [],
      "metadata": {
        "id": "P40RSAfGPBd4"
      },
      "id": "P40RSAfGPBd4",
      "execution_count": null,
      "outputs": []
    },
    {
      "cell_type": "code",
      "execution_count": null,
      "id": "327511f6",
      "metadata": {
        "id": "327511f6"
      },
      "outputs": [],
      "source": [
        "p_pred = model.predict(pad_test)\n",
        "p_pred = p_pred.flatten()"
      ]
    },
    {
      "cell_type": "code",
      "execution_count": null,
      "id": "f7e1bc13",
      "metadata": {
        "colab": {
          "base_uri": "https://localhost:8080/"
        },
        "id": "f7e1bc13",
        "outputId": "850b3101-4b94-42c6-e222-6be7baa12d6d"
      },
      "outputs": [
        {
          "output_type": "stream",
          "name": "stdout",
          "text": [
            "[0.39 0.93 0.91 ... 0.1  0.13 0.88]\n"
          ]
        }
      ],
      "source": [
        "print(p_pred.round(2))"
      ]
    },
    {
      "cell_type": "code",
      "execution_count": null,
      "id": "f7856dcc",
      "metadata": {
        "colab": {
          "base_uri": "https://localhost:8080/"
        },
        "id": "f7856dcc",
        "outputId": "93f7e6ed-491d-4f42-d269-ddce6c9d8917"
      },
      "outputs": [
        {
          "output_type": "stream",
          "name": "stdout",
          "text": [
            "[0 1 1 ... 0 0 1]\n"
          ]
        }
      ],
      "source": [
        "y_pred = np.where(p_pred > 0.5, 1, 0)\n",
        "print(y_pred)"
      ]
    },
    {
      "cell_type": "code",
      "execution_count": null,
      "id": "3d6bf03d",
      "metadata": {
        "id": "3d6bf03d",
        "colab": {
          "base_uri": "https://localhost:8080/"
        },
        "outputId": "96a49e30-e21d-49e9-c45f-4f305641d4df"
      },
      "outputs": [
        {
          "output_type": "stream",
          "name": "stdout",
          "text": [
            "/content/drive/My Drive/Colab Notebooks\n"
          ]
        }
      ],
      "source": [
        "%cd /content/drive/My Drive/Colab Notebooks/"
      ]
    },
    {
      "cell_type": "code",
      "execution_count": null,
      "id": "87f97a83",
      "metadata": {
        "colab": {
          "base_uri": "https://localhost:8080/"
        },
        "id": "87f97a83",
        "outputId": "9c87887f-14b0-4c6f-fc37-e2f164fc8795"
      },
      "outputs": [
        {
          "output_type": "stream",
          "name": "stdout",
          "text": [
            "[[5115  270]\n",
            " [ 551 5303]]\n",
            "              precision    recall  f1-score   support\n",
            "\n",
            "           0       0.90      0.95      0.93      5385\n",
            "           1       0.95      0.91      0.93      5854\n",
            "\n",
            "    accuracy                           0.93     11239\n",
            "   macro avg       0.93      0.93      0.93     11239\n",
            "weighted avg       0.93      0.93      0.93     11239\n",
            "\n"
          ]
        }
      ],
      "source": [
        "from sklearn.metrics import confusion_matrix, classification_report\n",
        "\n",
        "print(confusion_matrix(y_test, y_pred))\n",
        "print(classification_report(y_test, y_pred))"
      ]
    },
    {
      "cell_type": "code",
      "execution_count": null,
      "id": "2caaf80d",
      "metadata": {
        "id": "2caaf80d"
      },
      "outputs": [],
      "source": [
        "#plotting losses\n",
        "#plt.plot(r.history['loss'], label='loss')\n",
        "#plt.plot(r.history['val_loss'], label='val_accuracy')\n",
        "#plt.legend()"
      ]
    },
    {
      "cell_type": "code",
      "execution_count": null,
      "id": "6a16514b",
      "metadata": {
        "colab": {
          "base_uri": "https://localhost:8080/"
        },
        "id": "6a16514b",
        "outputId": "67b1cbaa-c26f-46bf-ee23-7d13e38bb5b7"
      },
      "outputs": [
        {
          "output_type": "stream",
          "name": "stdout",
          "text": [
            "Drive already mounted at /content/gdrive; to attempt to forcibly remount, call drive.mount(\"/content/gdrive\", force_remount=True).\n"
          ]
        }
      ],
      "source": [
        "from google.colab import drive\n",
        "drive.mount('/content/gdrive')"
      ]
    },
    {
      "cell_type": "code",
      "execution_count": null,
      "id": "a904b46d",
      "metadata": {
        "id": "a904b46d"
      },
      "outputs": [],
      "source": [
        "model.save('sentiment_analysis_100_epochs_reguralization_final_for_Now.h5')"
      ]
    },
    {
      "cell_type": "code",
      "execution_count": null,
      "id": "aa4a09f6",
      "metadata": {
        "id": "aa4a09f6"
      },
      "outputs": [],
      "source": [
        "#syntax for reloading model\n",
        "\n",
        "from tensorflow.keras.models import load_model\n",
        "\n",
        "loaded_model=load_model('sentiment_analysis.h5')\n"
      ]
    },
    {
      "cell_type": "code",
      "execution_count": null,
      "id": "bb691bc6",
      "metadata": {
        "id": "bb691bc6",
        "outputId": "c7250a48-006b-438b-a825-5df5d87e6008",
        "colab": {
          "base_uri": "https://localhost:8080/"
        }
      },
      "outputs": [
        {
          "output_type": "stream",
          "name": "stdout",
          "text": [
            "[[0.97469866]]\n",
            "Good Sentiment\n"
          ]
        }
      ],
      "source": [
        "#sentiment detecting\n",
        "\n",
        "# def predict_sentiment(text):\n",
        "#     #preprocessing\n",
        "#     text_seq = tokenizer.texts_to_sequences(text)\n",
        "#     text_pad = pad_sequences(text_seq, maxlen=T)\n",
        "\n",
        "#     #predicting the class\n",
        "#     predicted_sentiment = model.predict(text_pad).round()\n",
        "#     print(predicted_sentiment)\n",
        "\n",
        "#     if predicted_sentiment == 1.0:\n",
        "#         return(print('Good Sentiment'))\n",
        "#     else:\n",
        "#         return(print('Bad Sentiment'))\n",
        "\n",
        "#show how close prediction is to 0 0.5 and 1\n",
        "def predict_sentiment(text):\n",
        "    #preprocessing\n",
        "    text_seq = tokenizer.texts_to_sequences(text)\n",
        "    text_pad = pad_sequences(text_seq, maxlen=T)\n",
        "\n",
        "    #predicting the class\n",
        "    predicted_sentiment = model.predict(text_pad)\n",
        "    #rounded = [np.round(text,2) for x in predicted_sentiment]\n",
        "    rounded_predicted_sentiment = np.round(predicted_sentiment,2)\n",
        "\n",
        "\n",
        "    if rounded_predicted_sentiment.round() == 1.0:\n",
        "        print(predicted_sentiment)\n",
        "        return(print('Good Sentiment'))\n",
        "\n",
        "    else:\n",
        "        print(predicted_sentiment)\n",
        "        return(print('Bad Sentiment'))\n",
        "\n",
        "\n",
        "\n",
        "\n",
        "text = [\"Boba Tea has a great selection of teas and boba. The fruit teas aren't a sweet compared to other boba tea places I've been to which I appreciate. The staff is approachable and the space is clean.We'll most likely come back!\"]\n",
        "#text=[\"This doesn't look freshly made. Really disappointed! All the tapioca was stuck together, impossible to drink with a straw. Drink didn't taste fresh.\"]\n",
        "#text=[\"If this was my first bubble milk tea, I would not buy or crave for more. If you want to pay £8 for two water milk tea, please try it here. Real low & cheap quality. Never again!!!!!\"]\n",
        "#text=[\"No line at 3:30 on a Friday afternoon. We got the Thai tea and honey roasted milk teas. Both were delicious. The staff was very nice. There is a little parking lot, so parking was easy. I look forward to returning and trying their other teas and hot food items!\"]\n",
        "#text=[\"This place is pretty terrible, I don't know if you can call it a bubble tea store when it serves things that taste like water\"]\n",
        "predict_sentiment(text)\n"
      ]
    },
    {
      "cell_type": "code",
      "execution_count": null,
      "id": "a0535a97",
      "metadata": {
        "id": "a0535a97"
      },
      "outputs": [],
      "source": [
        "# validation_fields=['Text']\n",
        "# validation_file_path='Validation.csv'\n",
        "# validation_df=pd.read_csv(validation_file_path,skipinitialspace=True,usecols=validation_fields)\n",
        "# validation_df.head(1)\n",
        "\n",
        "\n",
        "# text = [\"Boba Tea has a great selection of teas and boba. The fruit teas aren't a sweet compared to other boba tea places I've been to which I appreciate. The staff is approachable and the space is clean.We'll most likely come back!\"]\n",
        "# text=[\"This doesn't look freshly made. Really disappointed! All the tapioca was stuck together, impossible to drink with a straw. Drink didn't taste fresh.\"]\n",
        "# #predict_sentiment(text)"
      ]
    },
    {
      "cell_type": "code",
      "execution_count": null,
      "id": "21790faa",
      "metadata": {
        "id": "21790faa"
      },
      "outputs": [],
      "source": []
    },
    {
      "cell_type": "code",
      "execution_count": null,
      "id": "d9676cdb",
      "metadata": {
        "id": "d9676cdb"
      },
      "outputs": [],
      "source": [
        "import keras\n",
        "from keras.models import load_model\n",
        "\n",
        "new_model = keras.models.load_model('newepoch/')"
      ]
    },
    {
      "cell_type": "code",
      "source": [
        "new_model.summary()"
      ],
      "metadata": {
        "colab": {
          "base_uri": "https://localhost:8080/"
        },
        "id": "jo-HpR8PAHHs",
        "outputId": "205e4fe4-7f7b-4e4c-ff75-f60e81d6b378"
      },
      "id": "jo-HpR8PAHHs",
      "execution_count": null,
      "outputs": [
        {
          "output_type": "stream",
          "name": "stdout",
          "text": [
            "Model: \"model_1\"\n",
            "_________________________________________________________________\n",
            " Layer (type)                Output Shape              Param #   \n",
            "=================================================================\n",
            " input_2 (InputLayer)        [(None, 547)]             0         \n",
            "                                                                 \n",
            " embedding_1 (Embedding)     (None, 547, 20)           561940    \n",
            "                                                                 \n",
            " lstm_1 (LSTM)               (None, 547, 15)           2160      \n",
            "                                                                 \n",
            " dropout_1 (Dropout)         (None, 547, 15)           0         \n",
            "                                                                 \n",
            " global_max_pooling1d_1 (Glo  (None, 15)               0         \n",
            " balMaxPooling1D)                                                \n",
            "                                                                 \n",
            " dense_2 (Dense)             (None, 32)                512       \n",
            "                                                                 \n",
            " dropout_2 (Dropout)         (None, 32)                0         \n",
            "                                                                 \n",
            " dense_3 (Dense)             (None, 1)                 33        \n",
            "                                                                 \n",
            "=================================================================\n",
            "Total params: 564,645\n",
            "Trainable params: 564,645\n",
            "Non-trainable params: 0\n",
            "_________________________________________________________________\n"
          ]
        }
      ]
    },
    {
      "cell_type": "code",
      "source": [
        "new_model_fit=new_model.fit(pad_train,y_train,validation_data = (pad_test,y_test),callbacks=[monitor],epochs=2)"
      ],
      "metadata": {
        "colab": {
          "base_uri": "https://localhost:8080/"
        },
        "id": "ym9SuGuEALKd",
        "outputId": "7434357d-2016-4559-d948-95c78d941eb3"
      },
      "id": "ym9SuGuEALKd",
      "execution_count": null,
      "outputs": [
        {
          "output_type": "stream",
          "name": "stdout",
          "text": [
            "Epoch 1/2\n",
            "937/937 [==============================] - 89s 88ms/step - loss: 0.1452 - accuracy: 0.9534 - val_loss: 0.2079 - val_accuracy: 0.9397\n",
            "Epoch 2/2\n",
            "937/937 [==============================] - 81s 86ms/step - loss: 0.1427 - accuracy: 0.9542 - val_loss: 0.2048 - val_accuracy: 0.9383\n"
          ]
        }
      ]
    },
    {
      "cell_type": "code",
      "source": [
        "#sentiment detecting\n",
        "\n",
        "# def predict_sentiment(text):\n",
        "#     #preprocessing\n",
        "#     text_seq = tokenizer.texts_to_sequences(text)\n",
        "#     text_pad = pad_sequences(text_seq, maxlen=T)\n",
        "\n",
        "#     #predicting the class\n",
        "#     predicted_sentiment = model.predict(text_pad).round()\n",
        "#     print(predicted_sentiment)\n",
        "\n",
        "#     if predicted_sentiment == 1.0:\n",
        "#         return(print('Good Sentiment'))\n",
        "#     else:\n",
        "#         return(print('Bad Sentiment'))\n",
        "\n",
        "#show how close prediction is to 0 0.5 and 1\n",
        "def predict_sentiment(text):\n",
        "    #preprocessing\n",
        "\n",
        "    text_seq = tokenizer.texts_to_sequences(text)\n",
        "    text_pad = pad_sequences(text_seq, maxlen=T)\n",
        "\n",
        "    #predicting the class\n",
        "    predicted_sentiment = new_model.predict(text_pad)\n",
        "    #rounded = [np.round(text,2) for x in predicted_sentiment]\n",
        "    rounded_predicted_sentiment = np.round(predicted_sentiment,2)\n",
        "\n",
        "\n",
        "    if rounded_predicted_sentiment.round() == 1.0:\n",
        "        print(predicted_sentiment)\n",
        "        return(print('Good Sentiment'))\n",
        "\n",
        "    else:\n",
        "        print(predicted_sentiment)\n",
        "        return(print('Bad Sentiment'))\n",
        "\n",
        "\n",
        "\n",
        "\n",
        "#text = [\"Boba Tea has a great selection of teas and boba. The fruit teas aren't a sweet compared to other boba tea places I've been to which I appreciate. The staff is approachable and the space is clean.We'll most likely come back!\"]\n",
        "#text=[\"This doesn't look freshly made. Really disappointed! All the tapioca was stuck together, impossible to drink with a straw. Drink didn't taste fresh.\"]\n",
        "text=[\"If this was my first bubble milk tea, I would not buy or crave for more. If you want to pay £8 for two water milk tea, please try it here. Real low & cheap quality. Never again!!!!!\"]\n",
        "#text=[\"No line at 3:30 on a Friday afternoon. We got the Thai tea and honey roasted milk teas. Both were delicious. The staff was very nice. There is a little parking lot, so parking was easy. I look forward to returning and trying their other teas and hot food items!\"]\n",
        "#text=[\"This place is pretty terrible, I don't know if you can call it a bubble tea store when it serves things that taste like water\"]\n",
        "predict_sentiment(text)\n"
      ],
      "metadata": {
        "colab": {
          "base_uri": "https://localhost:8080/"
        },
        "id": "F3GPoPJCAxU5",
        "outputId": "5c8666da-af41-4cf3-b831-54f2ddb3adff"
      },
      "id": "F3GPoPJCAxU5",
      "execution_count": null,
      "outputs": [
        {
          "output_type": "stream",
          "name": "stdout",
          "text": [
            "[[0.2798443]]\n",
            "Bad Sentiment\n"
          ]
        }
      ]
    }
  ],
  "metadata": {
    "kernelspec": {
      "display_name": "Python 3 (ipykernel)",
      "language": "python",
      "name": "python3"
    },
    "language_info": {
      "codemirror_mode": {
        "name": "ipython",
        "version": 3
      },
      "file_extension": ".py",
      "mimetype": "text/x-python",
      "name": "python",
      "nbconvert_exporter": "python",
      "pygments_lexer": "ipython3",
      "version": "3.9.7"
    },
    "colab": {
      "provenance": []
    },
    "accelerator": "GPU"
  },
  "nbformat": 4,
  "nbformat_minor": 5
}